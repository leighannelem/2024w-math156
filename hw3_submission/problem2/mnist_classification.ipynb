{
 "cells": [
  {
   "cell_type": "code",
   "execution_count": 4,
   "id": "acdaa78e",
   "metadata": {},
   "outputs": [],
   "source": [
    "import numpy as np\n",
    "import layers\n",
    "import activations\n",
    "import nn\n",
    "import losses\n",
    "import optimizers"
   ]
  },
  {
   "cell_type": "code",
   "execution_count": 7,
   "id": "541c61a4",
   "metadata": {},
   "outputs": [
    {
     "name": "stdout",
     "output_type": "stream",
     "text": [
      "Epoch 0, Loss: 2.9253661705699816\n",
      "Epoch 1, Loss: 0.4247996114549893\n",
      "Epoch 2, Loss: 0.3443904215030502\n",
      "Epoch 3, Loss: 0.34377999942909193\n",
      "Epoch 4, Loss: 0.3524749152774698\n",
      "Epoch 5, Loss: 0.3387765570355223\n",
      "Epoch 6, Loss: 0.2820992187231449\n",
      "Epoch 7, Loss: 0.27604830686973564\n",
      "Epoch 8, Loss: 0.23628793346171467\n",
      "Epoch 9, Loss: 0.2802311526643279\n",
      "Epoch 10, Loss: 0.3201409727450588\n"
     ]
    },
    {
     "name": "stderr",
     "output_type": "stream",
     "text": [
      "/Users/leighannelemoine/Documents/UCLA/2024-winter/math-156/homework/hw3/hw3_submission/problem2/activations.py:11: RuntimeWarning: overflow encountered in exp\n",
      "  self.sigmoid = 1 / (1 + np.exp(-z))\n"
     ]
    },
    {
     "name": "stdout",
     "output_type": "stream",
     "text": [
      "Epoch 11, Loss: 0.25437584470252245\n",
      "Epoch 12, Loss: 0.30452796821868283\n",
      "Epoch 13, Loss: 0.2685220077110059\n",
      "Epoch 14, Loss: 0.3063934975949281\n",
      "Epoch 15, Loss: 0.286291694787719\n",
      "Epoch 16, Loss: 0.2892460875568738\n",
      "Epoch 17, Loss: 0.2496839788826192\n",
      "Epoch 18, Loss: 0.2574887054617242\n",
      "Epoch 19, Loss: 0.2434632848297822\n",
      "Epoch 20, Loss: 0.28908192485142586\n",
      "Epoch 21, Loss: 0.2677807097971254\n",
      "Epoch 22, Loss: 0.2602850211697321\n",
      "Epoch 23, Loss: 0.255690196788079\n",
      "Epoch 24, Loss: 0.2431110004497636\n",
      "Epoch 25, Loss: 0.30673295672138645\n",
      "Epoch 26, Loss: 0.22916607451609758\n",
      "Epoch 27, Loss: 0.19329161526678654\n",
      "Epoch 28, Loss: 0.2590348305943751\n",
      "Epoch 29, Loss: 0.2019480263754617\n",
      "Accuracy: 0.9618\n"
     ]
    }
   ],
   "source": [
    "# RMSProp, CrossEntropy, Sigmoid\n",
    "from tensorflow.keras.datasets import mnist\n",
    "import numpy as np\n",
    "\n",
    "# Load and preprocess the MNIST dataset\n",
    "(X_train, y_train), (X_test, y_test) = mnist.load_data()\n",
    "X_train = X_train.reshape(-1, 784) / 255.0\n",
    "X_test = X_test.reshape(-1, 784) / 255.0\n",
    "\n",
    "# Convert labels to one-hot encoded vectors\n",
    "def one_hot_encode(labels, num_classes):\n",
    "    num_samples = labels.shape[0]\n",
    "    encoded_labels = np.zeros((num_samples, num_classes))\n",
    "    for i in range(num_samples):\n",
    "        encoded_labels[i, labels[i]] = 1\n",
    "    return encoded_labels\n",
    "\n",
    "num_classes = 10\n",
    "y_train_one_hot = one_hot_encode(y_train, num_classes)\n",
    "y_test_one_hot = one_hot_encode(y_test, num_classes)\n",
    "\n",
    "\n",
    "# Create the model\n",
    "input_size = 784\n",
    "num_units = 128\n",
    "model = nn.Sequential()\n",
    "model.add(layers.InputLayer(input_shape=input_size))\n",
    "model.add(layers.Dense(input_size, num_units, activation=activations.Sigmoid, optimizer=optimizers.RMSprop))\n",
    "model.add(layers.Dense(num_units, num_classes, activation=activations.Softmax, optimizer=optimizers.RMSprop))\n",
    "\n",
    "# Train the model\n",
    "epochs = 30\n",
    "learning_rate = 0.1\n",
    "batch_size = 128\n",
    "model.train(X_train.T, y_train_one_hot.T, epochs, learning_rate, batch_size, loss=losses.CrossEntropy)\n",
    "\n",
    "# Make predictions\n",
    "predictions = model.predict(X_test.T)\n",
    "\n",
    "# Convert predictions to class labels\n",
    "predicted_labels = np.argmax(predictions, axis=0)\n",
    "\n",
    "# Calculate accuracy\n",
    "accuracy = np.mean(predicted_labels == y_test)\n",
    "print(\"Accuracy:\", accuracy)"
   ]
  },
  {
   "cell_type": "code",
   "execution_count": null,
   "id": "43495d8f",
   "metadata": {},
   "outputs": [],
   "source": []
  }
 ],
 "metadata": {
  "kernelspec": {
   "display_name": "Python 3 (ipykernel)",
   "language": "python",
   "name": "python3"
  },
  "language_info": {
   "codemirror_mode": {
    "name": "ipython",
    "version": 3
   },
   "file_extension": ".py",
   "mimetype": "text/x-python",
   "name": "python",
   "nbconvert_exporter": "python",
   "pygments_lexer": "ipython3",
   "version": "3.11.6"
  }
 },
 "nbformat": 4,
 "nbformat_minor": 5
}
